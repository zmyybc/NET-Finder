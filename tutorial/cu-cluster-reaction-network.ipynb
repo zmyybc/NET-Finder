{
    "cells": [
     {
      "cell_type": "markdown",
      "metadata": {},
      "source": [
       "# Cu Cluster Reaction Network Analysis\n",
       "\n",
       "This notebook performs a reaction network analysis for different configurations of a 4-atom copper cluster. We will explore various arrangements of copper atoms, calculate the transition states between them, and generate a reaction network graph.\n",
       "\n",
       "## Overview of Steps\n",
       "1. Import necessary libraries\n",
       "2. Define function to create Cu clusters\n",
       "3. Create initial structures\n",
       "4. Perturb structures and save\n",
       "5. Set up calculation parameters\n",
       "6. Perform transition state search\n",
       "7. Generate reaction network\n",
       "\n",
       "Let's get started!"
      ]
     },
     {
      "cell_type": "markdown",
      "metadata": {},
      "source": [
       "## 1. Import Necessary Libraries\n",
       "\n",
       "First, we import the required Python libraries. These include:\n",
       "- `numpy`: for numerical computations\n",
       "- `ase`: for atomic simulation environment\n",
       "- `net_finder`: for transition state search and reaction network analysis"
      ]
     },
     {
      "cell_type": "code",
      "execution_count": null,
      "metadata": {},
      "outputs": [],
      "source": [
       "import numpy as np\n",
       "from ase import Atoms\n",
       "from ase.io import write\n",
       "from ase.calculators.emt import EMT\n",
       "from net_finder.paths import TransitionStateSearch\n",
       "from net_finder.net import ReactionNetwork"
      ]
     },
     {
      "cell_type": "markdown",
      "metadata": {},
      "source": [
       "## 2. Define Function to Create Cu Clusters\n",
       "\n",
       "This function will create a cluster containing 4 copper atoms. It sets non-periodic boundary conditions and adds vacuum around the cluster to prevent interactions between periodic images."
      ]
     },
     {
      "cell_type": "code",
      "execution_count": null,
      "metadata": {},
      "outputs": [],
      "source": [
       "def create_cu_cluster(positions):\n",
       "    cluster = Atoms('Cu4', positions=positions)\n",
       "    cluster.set_pbc(False)  # Explicitly set to non-periodic\n",
       "    cluster.center(vacuum=5.0)  # Add vacuum around and center the cluster\n",
       "    return cluster"
      ]
     },
     {
      "cell_type": "markdown",
      "metadata": {},
      "source": [
       "## 3. Create Initial Structures\n",
       "\n",
       "We will create 4 different copper cluster configurations:\n",
       "1. Tetrahedral configuration\n",
       "2. Planar rhombus configuration\n",
       "3. Linear configuration\n",
       "4. Planar square configuration\n",
       "\n",
       "These different configurations will serve as the starting points for our reaction network analysis."
      ]
     },
     {
      "cell_type": "code",
      "execution_count": null,
      "metadata": {},
      "outputs": [],
      "source": [
       "# Create initial structures (different arrangements of 4 copper atoms)\n",
       "structures = [\n",
       "    create_cu_cluster([\n",
       "        (0, 0, 0),\n",
       "        (2.5, 0, 0),\n",
       "        (1.25, 2.165, 0),\n",
       "        (1.25, 0.722, 2.165)\n",
       "    ]),  # Tetrahedral configuration\n",
       "    create_cu_cluster([\n",
       "        (0, 0, 0),\n",
       "        (2.5, 0, 0),\n",
       "        (1.25, 2.165, 0),\n",
       "        (3.75, 2.165, 0)\n",
       "    ]),  # Planar rhombus configuration\n",
       "    create_cu_cluster([\n",
       "        (0, 0, 0),\n",
       "        (2.5, 0, 0),\n",
       "        (5.0, 0, 0),\n",
       "        (7.5, 0, 0)\n",
       "    ]),  # Linear configuration\n",
       "    create_cu_cluster([\n",
       "        (0, 0, 0),\n",
       "        (2.5, 0, 0),\n",
       "        (0, 2.5, 0),\n",
       "        (2.5, 2.5, 0)\n",
       "    ])  # Planar square configuration\n",
       "]"
      ]
     },
     {
      "cell_type": "markdown",
      "metadata": {},
      "source": [
       "## 4. Perturb Structures and Save\n",
       "\n",
       "To increase diversity and simulate thermal motion in a real environment, we apply small random perturbations to each structure. Then, we save these structures in XYZ file format for subsequent analysis or visualization."
      ]
     },
     {
      "cell_type": "code",
      "execution_count": null,
      "metadata": {},
      "outputs": [],
      "source": [
       "# Slightly perturb each structure to increase diversity\n",
       "for structure in structures:\n",
       "    structure.positions += np.random.rand(*structure.positions.shape) * 0.1\n",
       "    structure.center(vacuum=5.0)  # Re-center and ensure sufficient vacuum\n",
       "\n",
       "# Save initial structures\n",
       "for i, structure in enumerate(structures):\n",
       "    write(f'initial/cu_cluster_{i}.xyz', structure)\n",
       "\n",
       "print(f\"Created and saved {len(structures)} initial structures, each with {len(structures[0])} copper atoms.\")"
      ]
     },
     {
      "cell_type": "markdown",
      "metadata": {},
      "source": [
       "## 5. Set Up Calculation Parameters\n",
       "\n",
       "In this step, we set up three important sets of parameters:\n",
       "1. EMT calculator: for calculating interatomic interactions\n",
       "2. Dimer parameters: for transition state search\n",
       "3. Run parameters: specifying how to execute the calculations"
      ]
     },
     {
      "cell_type": "code",
      "execution_count": null,
      "metadata": {},
      "outputs": [],
      "source": [
       "# Set up EMT calculator\n",
       "calc = {\n",
       "    \"calculator_imports\": \"from ase.calculators.emt import EMT\",\n",
       "    \"calculator_setup\": \"calc = EMT()\"\n",
       "}\n",
       "\n",
       "# Set up Dimer parameters\n",
       "dimer_params = {\n",
       "    'displacement_method': 'gauss',\n",
       "    'displacement_radius': 0.5,\n",
       "    'dimer_separation': 0.01\n",
       "}\n",
       "\n",
       "# Set up run parameters\n",
       "run_params = {\n",
       "    'run_mode': 'shell'\n",
       "}"
      ]
     },
     {
      "cell_type": "markdown",
      "metadata": {},
      "source": [
       "## 6. Perform Transition State Search\n",
       "\n",
       "Now we use the TransitionStateSearch class to find transition states between different Cu cluster configurations. This process may take some time, depending on your computer's performance and the parameters set."
      ]
     },
     {
      "cell_type": "code",
      "execution_count": null,
      "metadata": {},
      "outputs": [],
      "source": [
       "# Create TransitionStateSearch object and run\n",
       "ts_search = TransitionStateSearch(structures, calc, dimer_params, output_dir='output', **run_params)\n",
       "ts_search.run(fmax=0.05, steps=100)\n",
       "\n",
       "# Collect reaction paths\n",
       "reaction_paths = ts_search.collect_reaction_paths()\n",
       "print(f\"Collected {len(reaction_paths)} reaction paths\")"
      ]
     },
     {
      "cell_type": "markdown",
      "metadata": {},
      "source": [
       "## 7. Generate Reaction Network\n",
       "\n",
       "Finally, we use the reaction paths found to generate a reaction network. We set an energy threshold to filter out paths with too high energy. The generated network graph will be saved in the specified output directory."
      ]
     },
     {
      "cell_type": "code",
      "execution_count": null,
      "metadata": {},
      "outputs": [],
      "source": [
       "# Create ReactionNetwork object and generate graph\n",
       "energy_cutoff = 10.0  # Set an appropriate energy threshold (in eV)\n",
       "network = ReactionNetwork(reaction_paths, energy_cutoff)\n",
       "network.generate_graph(output_dir='reaction_network_output')\n",
       "print(\"Reaction network analysis complete, results saved in 'reaction_network_output' directory\")"
      ]
     },
     {
      "cell_type": "markdown",
      "metadata": {},
      "source": [
       "## Conclusion\n",
       "\n",
       "Through this notebook, we have completed the following steps:\n",
       "1. Created different configurations of Cu4 clusters\n",
       "2. Perturbed and saved these structures\n",
       "3. Set up necessary calculation parameters\n",
       "4. Performed transition state search\n",
       "5. Generated a reaction network\n",
       "\n",
       "The generated reaction network graph can help us understand the transformation paths and energy barriers between different Cu4 cluster configurations. This is particularly useful for studying the structural evolution and catalytic performance of nanoparticles.\n",
       "\n",
       "Next steps could include examining the output files in the 'reaction_network_output' directory, analyzing the generated reaction network graph, and adjusting parameters as needed for more in-depth studies."
      ]
     }
    ],
    "metadata": {
     "kernelspec": {
      "display_name": "Python 3",
      "language": "python",
      "name": "python3"
     },
     "language_info": {
      "codemirror_mode": {
       "name": "ipython",
       "version": 3
      },
      "file_extension": ".py",
      "mimetype": "text/x-python",
      "name": "python",
      "nbconvert_exporter": "python",
      "pygments_lexer": "ipython3",
      "version": "3.8.0"
     }
    },
    "nbformat": 4,
    "nbformat_minor": 4
   }